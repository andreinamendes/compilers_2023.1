{
 "cells": [
  {
   "attachments": {},
   "cell_type": "markdown",
   "metadata": {},
   "source": [
    "**Trabalho 2 - Compiladores - Seleção de instrução**  \n",
    "**Prof:** Lucas Ismaily  \n",
    "**Nome:** Andreina Maria Mendes da Silva  \n",
    "**Matrícula:** 485306"
   ]
  },
  {
   "attachments": {},
   "cell_type": "markdown",
   "metadata": {},
   "source": [
    "**Entrada**  \n",
    "A entrada é composta por um grafo de fluxo de controle no seguinte formato: a primeira\n",
    "linha da entrada é composta por dois inteiros N e M, sendo N o número do bloco básico\n",
    "e M a quantidade de linhas de códigos de três endereços. As M linhas seguintes são\n",
    "códigos de três endereços. Após as M linhas, segue uma última linha contendo uma\n",
    "sequência de inteiros, representando os vértices sucessivos do bloco N, caso N não\n",
    "tenha sucessores, é dado o valor zero.  \n",
    "\n",
    "**Saída**  \n",
    "Para cada bloco básico do grafo de entrada, seu programa deve computar os conjuntos\n",
    "IN e OUT de cada questão. "
   ]
  },
  {
   "attachments": {},
   "cell_type": "markdown",
   "metadata": {},
   "source": [
    "1. (3,0 pontos) Implemente a Análise de Longevidade."
   ]
  },
  {
   "cell_type": "code",
   "execution_count": null,
   "metadata": {},
   "outputs": [],
   "source": [
    "''' Entrada\n",
    "1 2\n",
    "a= a+c\n",
    "b= 4-a\n",
    "2\n",
    "2 1\n",
    "b=20*c\n",
    "3\n",
    "3 2\n",
    "d = a+b\n",
    "b = 0\n",
    "0\n",
    "\n",
    "Bloco |  DEF |  USE\n",
    "1     |  b   |  a, c\n",
    "2     |  b   |  c\n",
    "3     |  d   |  a, b\n",
    "\n",
    "Bloco |  IN  |  OUT\n",
    "1     | a, c | a, c \n",
    "2     | a, c | a, b\n",
    "3     | a, b |\n",
    "\n",
    "1 1\n",
    "a=0\n",
    "2\n",
    "2 4\n",
    "b=a+1\n",
    "c=c+b\n",
    "a=b+2\n",
    "ifa<Ngoto2\n",
    "3 2\n",
    "3 1\n",
    "return c\n",
    "0\n",
    "\n",
    "Bloco |  DEF  |  USE\n",
    "1     |   a   |    \n",
    "2     |   b   |  a, c\n",
    "3     |       |   c\n",
    "\n",
    "Bloco |  IN  |  OUT\n",
    "1     |   c  |  a, c  \n",
    "2     | a, c |   c\n",
    "3     |   c  |\n",
    "'''"
   ]
  },
  {
   "attachments": {},
   "cell_type": "markdown",
   "metadata": {},
   "source": [
    "2. (3,5 pontos) Implemente o algoritmo de fluxo de dados Reaching Definitions\n",
    "(definições alcançantes)."
   ]
  },
  {
   "attachments": {},
   "cell_type": "markdown",
   "metadata": {},
   "source": [
    "3. (3,5 pontos) Implemente o algoritmo de fluxo de dados Available Expressions\n",
    "(Expressões Disponíveis)."
   ]
  }
 ],
 "metadata": {
  "kernelspec": {
   "display_name": "base",
   "language": "python",
   "name": "python3"
  },
  "language_info": {
   "codemirror_mode": {
    "name": "ipython",
    "version": 3
   },
   "file_extension": ".py",
   "mimetype": "text/x-python",
   "name": "python",
   "nbconvert_exporter": "python",
   "pygments_lexer": "ipython3",
   "version": "3.10.11"
  },
  "orig_nbformat": 4
 },
 "nbformat": 4,
 "nbformat_minor": 2
}
