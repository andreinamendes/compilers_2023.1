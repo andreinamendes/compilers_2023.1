{
 "cells": [
  {
   "attachments": {},
   "cell_type": "markdown",
   "metadata": {},
   "source": [
    "**Trabalho 2 - Compiladores - Seleção de instrução**  \n",
    "**Prof:** Lucas Ismaily  \n",
    "**Nome:** Andreina Maria Mendes da Silva  \n",
    "**Matrícula:** 485306"
   ]
  },
  {
   "attachments": {},
   "cell_type": "markdown",
   "metadata": {},
   "source": [
    "**Entrada**  \n",
    "A entrada é composta por um grafo de fluxo de controle no seguinte formato: a primeira\n",
    "linha da entrada é composta por dois inteiros N e M, sendo N o número do bloco básico\n",
    "e M a quantidade de linhas de códigos de três endereços. As M linhas seguintes são\n",
    "códigos de três endereços. Após as M linhas, segue uma última linha contendo uma\n",
    "sequência de inteiros, representando os vértices sucessivos do bloco N, caso N não\n",
    "tenha sucessores, é dado o valor zero.  \n",
    "\n",
    "**Saída**  \n",
    "Para cada bloco básico do grafo de entrada, seu programa deve computar os conjuntos\n",
    "IN e OUT de cada questão. "
   ]
  },
  {
   "attachments": {},
   "cell_type": "markdown",
   "metadata": {},
   "source": [
    "1. (3,0 pontos) Implemente a Análise de Longevidade."
   ]
  },
  {
   "attachments": {},
   "cell_type": "markdown",
   "metadata": {},
   "source": [
    "2. (3,5 pontos) Implemente o algoritmo de fluxo de dados Reaching Definitions\n",
    "(definições alcançantes)."
   ]
  },
  {
   "attachments": {},
   "cell_type": "markdown",
   "metadata": {},
   "source": [
    "3. (3,5 pontos) Implemente o algoritmo de fluxo de dados Available Expressions\n",
    "(Expressões Disponíveis)."
   ]
  }
 ],
 "metadata": {
  "kernelspec": {
   "display_name": "base",
   "language": "python",
   "name": "python3"
  },
  "language_info": {
   "codemirror_mode": {
    "name": "ipython",
    "version": 3
   },
   "file_extension": ".py",
   "mimetype": "text/x-python",
   "name": "python",
   "nbconvert_exporter": "python",
   "pygments_lexer": "ipython3",
   "version": "3.10.11"
  },
  "orig_nbformat": 4
 },
 "nbformat": 4,
 "nbformat_minor": 2
}
