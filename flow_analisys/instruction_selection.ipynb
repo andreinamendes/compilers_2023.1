{
 "cells": [
  {
   "attachments": {},
   "cell_type": "markdown",
   "metadata": {},
   "source": [
    "**Trabalho 2 - Compiladores - Seleção de instrução**  \n",
    "**Prof:** Lucas Ismaily  \n",
    "**Nome:** Andreina Maria Mendes da Silva  \n",
    "**Matrícula:** 485306"
   ]
  },
  {
   "attachments": {},
   "cell_type": "markdown",
   "metadata": {},
   "source": [
    "**Entrada**  \n",
    "A entrada é composta por um grafo de fluxo de controle no seguinte formato: a primeira\n",
    "linha da entrada é composta por dois inteiros N e M, sendo N o número do bloco básico\n",
    "e M a quantidade de linhas de códigos de três endereços. As M linhas seguintes são\n",
    "códigos de três endereços. Após as M linhas, segue uma última linha contendo uma\n",
    "sequência de inteiros, representando os vértices sucessivos do bloco N, caso N não\n",
    "tenha sucessores, é dado o valor zero.  \n",
    "\n",
    "**Saída**  \n",
    "Para cada bloco básico do grafo de entrada, seu programa deve computar os conjuntos\n",
    "IN e OUT de cada questão. "
   ]
  },
  {
   "attachments": {},
   "cell_type": "markdown",
   "metadata": {},
   "source": [
    "1. (3,0 pontos) Implemente a Análise de Longevidade."
   ]
  },
  {
   "cell_type": "code",
   "execution_count": null,
   "metadata": {},
   "outputs": [],
   "source": [
    "''' Entrada\n",
    "1 2\n",
    "a= a+c\n",
    "b= 4-a\n",
    "2\n",
    "2 1\n",
    "b=20*c\n",
    "3\n",
    "3 2\n",
    "d = a+b\n",
    "b = 0\n",
    "0\n",
    "\n",
    "Bloco |  DEF |  USE\n",
    "1     |  b   |  a, c\n",
    "2     |  b   |  c\n",
    "3     |  d   |  a, b\n",
    "\n",
    "Bloco |  IN  |  OUT\n",
    "1     | a, c | a, c \n",
    "2     | a, c | a, b\n",
    "3     | a, b |\n",
    "\n",
    "1 1\n",
    "a=0\n",
    "2\n",
    "2 4\n",
    "b=a+1\n",
    "c=c+b\n",
    "a=b+2\n",
    "ifa<Ngoto2\n",
    "3 2\n",
    "3 1\n",
    "return c\n",
    "0\n",
    "\n",
    "Bloco |  DEF  |  USE\n",
    "1     |   a   |    \n",
    "2     |   b   |  a, c\n",
    "3     |       |   c\n",
    "\n",
    "Bloco |  IN  |  OUT\n",
    "1     |   c  |  a, c  \n",
    "2     | a, c |   c\n",
    "3     |   c  |\n",
    "'''"
   ]
  },
  {
   "attachments": {},
   "cell_type": "markdown",
   "metadata": {},
   "source": [
    "2. (3,5 pontos) Implemente o algoritmo de fluxo de dados Reaching Definitions\n",
    "(definições alcançantes)."
   ]
  },
  {
   "attachments": {},
   "cell_type": "markdown",
   "metadata": {},
   "source": [
    "4\n",
    "1 3\n",
    "d1: i=m-1\n",
    "d2: j=n\n",
    "d3: a=u1\n",
    "2\n",
    "2 2\n",
    "d4: i=i+1\n",
    "d5: j=j-1\n",
    "3 4\n",
    "3 1\n",
    "d6: a=u2\n",
    "2\n",
    "4 1\n",
    "d7: i=u3\n",
    "2\n",
    "\n",
    "6\n",
    "1 2\n",
    "d1: b = 1\n",
    "d2: c = 2\n",
    "2\n",
    "2 2\n",
    "d3: a = b + c\n",
    "d4: d = a - b\n",
    "3 4\n",
    "3 1\n",
    "d5: d = c * d\n",
    "5 4\n",
    "5 2\n",
    "d6: d = b + c\n",
    "d7: e = e + 1\n",
    "3\n",
    "4 2\n",
    "d8: c = b + c\n",
    "d9: e = a - b\n",
    "2 6\n",
    "6 2\n",
    "d10: b = c * d\n",
    "d11: c = b - d\n",
    "0\n",
    "\n",
    "OUT[ 1 ] = { d1 , d2 }                                   IN[ 1 ] = {  }\n",
    "OUT[ 2 ] = { d1 , d2 , d3 , d4 , d6 , d7 }               IN[ 2 ] = { d1 , d2 , d3 , d4 , d5 , d6 , d7 }\n",
    "OUT[ 3 ] = { d1 , d2 , d3 , d5 , d6 , d7 , d9 }          IN[ 3 ] = { d1 , d2 , d3 , d4 , d6 , d7 , d8 , d9 }\n",
    "OUT[ 4 ] = { d1 , d3 , d4 , d5 , d6 , d7 }               IN[ 4 ] = { d1 , d2 , d3 , d4 , d5 , d6 , d7 , d9 }\n",
    "OUT[ 5 ] = { d1 , d2 , d3 , d6 , d8 , d9 }               IN[ 5 ] = { d1 , d2 , d3 , d5 , d6 , d7 , d9 }\n",
    "OUT[ 6 ] = { d3 , d4 , d5 , d7 , d10 , d11 }             IN[ 6 ] = { d1 , d3 , d4 , d5 , d6 , d7 }"
   ]
  },
  {
   "attachments": {},
   "cell_type": "markdown",
   "metadata": {},
   "source": [
    "3. (3,5 pontos) Implemente o algoritmo de fluxo de dados Available Expressions\n",
    "(Expressões Disponíveis)."
   ]
  }
 ],
 "metadata": {
  "kernelspec": {
   "display_name": "base",
   "language": "python",
   "name": "python3"
  },
  "language_info": {
   "codemirror_mode": {
    "name": "ipython",
    "version": 3
   },
   "file_extension": ".py",
   "mimetype": "text/x-python",
   "name": "python",
   "nbconvert_exporter": "python",
   "pygments_lexer": "ipython3",
   "version": "3.10.11"
  },
  "orig_nbformat": 4
 },
 "nbformat": 4,
 "nbformat_minor": 2
}
