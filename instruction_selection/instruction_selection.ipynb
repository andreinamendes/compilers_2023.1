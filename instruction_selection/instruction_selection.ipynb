{
 "cells": [
  {
   "attachments": {},
   "cell_type": "markdown",
   "metadata": {},
   "source": [
    "**Trabalho 2 - Compiladores - Seleção de instrução**  \n",
    "**Prof:** Lucas Ismaily  \n",
    "**Nome:** Andreina Maria Mendes da Silva  \n",
    "**Matrícula:** 485306"
   ]
  },
  {
   "attachments": {},
   "cell_type": "markdown",
   "metadata": {},
   "source": [
    "1. (3,0 pontos) Implemente um algoritmo que recebe como entrada um conjunto de instruções no formato linear e o imprime em formato de árvore. Por exemplo, se a\n",
    "entrada for MEM(+(CONST 1,CONST 2)), sua saída deve ser algo parecido com a figura a seguir. Nota: é algo parecido, pode inclusive, usar o próprio terminal para\n",
    "imprimir uma estrutura nesse formato.  \n",
    "\n",
    "<p align=\"center\">\n",
    "  <img src=\"q1.png\" />\n",
    "</p>"
   ]
  },
  {
   "attachments": {},
   "cell_type": "markdown",
   "metadata": {},
   "source": [
    "Importando bibliotecas necessárias"
   ]
  },
  {
   "cell_type": "code",
   "execution_count": 1,
   "metadata": {},
   "outputs": [],
   "source": [
    "from treelib import Tree"
   ]
  },
  {
   "attachments": {},
   "cell_type": "markdown",
   "metadata": {},
   "source": [
    "Recebendo dados"
   ]
  },
  {
   "cell_type": "code",
   "execution_count": 2,
   "metadata": {},
   "outputs": [],
   "source": [
    "def get_data(data):\n",
    "  instructions = []\n",
    "  elem = str()\n",
    "\n",
    "  for x in data:\n",
    "    symbol = x\n",
    "    \n",
    "    if symbol in ['(', ')', ',']:\n",
    "      instructions.append(elem)\n",
    "      instructions.append(symbol)\n",
    "      elem = str()\n",
    "    else:\n",
    "      elem += symbol\n",
    "\n",
    "  instructions = [x for x in instructions if x != '']\n",
    "  return instructions"
   ]
  },
  {
   "attachments": {},
   "cell_type": "markdown",
   "metadata": {},
   "source": [
    "Montagem da árvore de instruções"
   ]
  },
  {
   "cell_type": "code",
   "execution_count": 3,
   "metadata": {},
   "outputs": [],
   "source": [
    "def create_tree(instructions, tree):\n",
    "  tree.create_node(instructions[0], 0)\n",
    "  fathers = [0]\n",
    "  \n",
    "  for index, value in enumerate(instructions[1:], 1):\n",
    "    if value == ')':\n",
    "      fathers.pop()\n",
    "    elif value == '(':\n",
    "      fathers.append(index-1)\n",
    "    elif value != ',':\n",
    "      tree.create_node(value, index, parent=fathers[-1])\n",
    "\n",
    "  return tree"
   ]
  },
  {
   "attachments": {},
   "cell_type": "markdown",
   "metadata": {},
   "source": [
    "Função main e chamadas de funções e impressão da árvore resultante"
   ]
  },
  {
   "cell_type": "code",
   "execution_count": 4,
   "metadata": {},
   "outputs": [
    {
     "name": "stdout",
     "output_type": "stream",
     "text": [
      "BINOP\n",
      "├── MEM\n",
      "│   └── CONST 100\n",
      "└── MUL\n",
      "    └── CONST 5\n",
      "\n"
     ]
    }
   ],
   "source": [
    "if __name__ == '__main__':\n",
    "  init_data = 'BINOP(MUL(CONST 5),MEM(CONST 100))'\n",
    "  instructions = get_data(init_data)\n",
    "  tree = create_tree(instructions, Tree())\n",
    "  tree.show()"
   ]
  },
  {
   "attachments": {},
   "cell_type": "markdown",
   "metadata": {},
   "source": [
    "2. (3,5 pontos) Implemente a fase de Seleção de Instrução de um compilador considerando os padrões da arquitetura Jouette, conforme tabela abaixo.\n",
    "\n",
    "<p align=\"center\">\n",
    "  <img src=\"q2.png\" />\n",
    "</p>"
   ]
  },
  {
   "attachments": {},
   "cell_type": "markdown",
   "metadata": {},
   "source": [
    "**Nota:** Você deve utilizar o algoritmo baseado em Programação Dinâmica. Para computar os custos de cada instrução, considere os seguintes:  \n",
    "\n",
    "I. A instrução TEMP (a primeira) tem custo zero, ou seja, um simples carregamento para um registrador, por exemplo, Ri ← TEMPO X, tem custo zero.  \n",
    "II. O custo de uma instrução MOVEM é dois, ou seja, carregar da memória e atribuir à memória, por exemplo, M[R1] ← M[R2], tem custo dois.  \n",
    "III. Os custos das demais instruções são unitários.  \n",
    "\n",
    "**Entrada**  \n",
    "A entrada é composta por um conjunto de instruções no formato linear.\n",
    "  \n",
    "**Saída**  \n",
    "Você deve imprimir os padrões selecionados e o custo da solução gerada. "
   ]
  },
  {
   "attachments": {},
   "cell_type": "markdown",
   "metadata": {},
   "source": [
    "Função para percorrer o código e definir os padrões"
   ]
  },
  {
   "cell_type": "code",
   "execution_count": null,
   "metadata": {},
   "outputs": [],
   "source": [
    "def instruction_selection():\n",
    "  pass"
   ]
  },
  {
   "attachments": {},
   "cell_type": "markdown",
   "metadata": {},
   "source": [
    "Chamadas de funções e função main"
   ]
  },
  {
   "cell_type": "code",
   "execution_count": null,
   "metadata": {},
   "outputs": [],
   "source": [
    "if __name__ == \"__main__\":\n",
    "  pass"
   ]
  }
 ],
 "metadata": {
  "kernelspec": {
   "display_name": "base",
   "language": "python",
   "name": "python3"
  },
  "language_info": {
   "codemirror_mode": {
    "name": "ipython",
    "version": 3
   },
   "file_extension": ".py",
   "mimetype": "text/x-python",
   "name": "python",
   "nbconvert_exporter": "python",
   "pygments_lexer": "ipython3",
   "version": "3.10.11"
  },
  "orig_nbformat": 4
 },
 "nbformat": 4,
 "nbformat_minor": 2
}
